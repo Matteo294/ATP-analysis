{
 "cells": [
  {
   "cell_type": "markdown",
   "metadata": {},
   "source": [
    "# Djokovic ML model"
   ]
  },
  {
   "cell_type": "markdown",
   "metadata": {},
   "source": [
    "Here we want to analyze Djokovic's data and use ML to predict some stats. We choose Djokovic because he has the highest number of played matches (= more data) "
   ]
  },
  {
   "cell_type": "markdown",
   "metadata": {},
   "source": [
    "We start by importing some general modules. More modules will be imported throurough the project, when needed."
   ]
  },
  {
   "cell_type": "code",
   "execution_count": null,
   "metadata": {},
   "outputs": [],
   "source": [
    "import sqlite3\n",
    "import pandas as pd\n",
    "from matplotlib import pyplot as plt\n",
    "import numpy as np"
   ]
  },
  {
   "cell_type": "markdown",
   "metadata": {},
   "source": [
    "Let us query all Djokovic's matches from the database and let us list all the features with the corresponding type. Let us then visualize the dataset."
   ]
  },
  {
   "cell_type": "code",
   "execution_count": null,
   "metadata": {},
   "outputs": [],
   "source": [
    "conn = sqlite3.connect('../data.db')\n",
    "df = pd.read_sql_query(\"SELECT * FROM djokovic ORDER BY win\", conn) # select all Djokovic's matches\n",
    "#print(df.columns)\n",
    "print(df.dtypes)"
   ]
  },
  {
   "cell_type": "code",
   "execution_count": null,
   "metadata": {},
   "outputs": [],
   "source": [
    "from IPython.display import display, HTML\n",
    "\n",
    "# Generate HTML table\n",
    "def display_scrollable_table(df):\n",
    "    html = f\"\"\"\n",
    "    <style>\n",
    "        .dataframe-container {{\n",
    "            max-height: 500px;\n",
    "            overflow-y: scroll;\n",
    "            border: 1px solid #ccc;\n",
    "        }}\n",
    "        table {{\n",
    "            width: 100%;\n",
    "            border-collapse: collapse;\n",
    "        }}\n",
    "        th, td {{\n",
    "            padding: 8px;\n",
    "            text-align: left;\n",
    "            border-bottom: 1px solid #ddd;\n",
    "        }}\n",
    "        thead th {{\n",
    "            position: sticky;\n",
    "            top: 0;\n",
    "            background: white;\n",
    "            z-index: 2;\n",
    "        }}\n",
    "    </style>\n",
    "    <div class=\"dataframe-container\">\n",
    "        {df.to_html(index=False)}\n",
    "    </div>\n",
    "    \"\"\"\n",
    "    display(HTML(html))\n",
    "\n",
    "# Display table\n",
    "display_scrollable_table(df)"
   ]
  },
  {
   "cell_type": "markdown",
   "metadata": {},
   "source": [
    "Before diving into the investigation of the dataset, let us do some basic operations to better represent the data we need."
   ]
  },
  {
   "cell_type": "markdown",
   "metadata": {},
   "source": [
    "Split date into month and year"
   ]
  },
  {
   "cell_type": "code",
   "execution_count": null,
   "metadata": {},
   "outputs": [],
   "source": [
    "# Separate year from month\n",
    "yyyy, mm = [[], []]\n",
    "for el in df[\"tourney_date\"]:\n",
    "    yyyy.append(int(el[:4]))\n",
    "    mm.append(int(el[4:6]))\n",
    "df[\"yyyy\"] = yyyy\n",
    "df[\"mm\"] = mm\n",
    "df = df.drop(\"tourney_date\", axis=1)"
   ]
  },
  {
   "cell_type": "markdown",
   "metadata": {},
   "source": [
    "Remove rows with NaN output"
   ]
  },
  {
   "cell_type": "code",
   "execution_count": null,
   "metadata": {},
   "outputs": [],
   "source": [
    "df = df[df['win'].notna()]"
   ]
  },
  {
   "cell_type": "markdown",
   "metadata": {},
   "source": [
    "Stats normalization from absolute counts to relative percentage"
   ]
  },
  {
   "cell_type": "code",
   "execution_count": null,
   "metadata": {},
   "outputs": [],
   "source": [
    "cols_to_norm = ['ace', 'df', 'firstWon', 'firstIn']\n",
    "for col in cols_to_norm:\n",
    "    df[col + \"_rate\"] = df[col] / df.serve_points\n",
    "\n",
    "cols_to_norm = ['opponent_ace', 'opponent_df', 'opponent_firstWon', 'opponent_firstIn']\n",
    "for col in cols_to_norm:\n",
    "    df[col + \"_rate\"] = df[col] / df.opponent_serve_points\n",
    "\n",
    "cols_to_norm = ['minutes', 'tot_games', 'serve_games', 'serve_points', 'opponent_serve_games', 'opponent_serve_points']\n",
    "for col in cols_to_norm:\n",
    "    df[col + \"_per_set\"] = df[col] / df.best_of"
   ]
  },
  {
   "cell_type": "markdown",
   "metadata": {},
   "source": [
    "Encode victory (yes/no) into number (1/0)"
   ]
  },
  {
   "cell_type": "code",
   "execution_count": null,
   "metadata": {},
   "outputs": [],
   "source": [
    "encoded_y = []\n",
    "for el in df['win']:\n",
    "    if \"yes\" == el:\n",
    "        encoded_y.append(0.)\n",
    "    else:\n",
    "        encoded_y.append(1.)\n",
    "y = pd.DataFrame({\"win\": encoded_y}) # dependent variable \n",
    "df[\"win\"] = encoded_y"
   ]
  },
  {
   "cell_type": "markdown",
   "metadata": {},
   "source": [
    "## Data exploration"
   ]
  },
  {
   "cell_type": "markdown",
   "metadata": {},
   "source": [
    "Long-tailed distributions are typically not very nice to work with. Hence, we measure the kurtosis of each distribution and if it is larger than 3 stddev, we work on it."
   ]
  },
  {
   "cell_type": "code",
   "execution_count": null,
   "metadata": {},
   "outputs": [],
   "source": [
    "from scipy.stats import kurtosis\n",
    "from sklearn.impute import SimpleImputer\n",
    "\n",
    "numerical_columns = df.select_dtypes(include=['int64', 'float64']).columns\n",
    "\n",
    "longtail_features = []\n",
    "\n",
    "count = 0\n",
    "for feature in df.select_dtypes(include=['int64', 'float64']).columns:\n",
    "    df[feature] = df[feature].fillna(value=df[feature].mean())\n",
    "    kurt = kurtosis(df[feature])\n",
    "    if kurt > 3:\n",
    "        print(feature, kurt)\n",
    "        longtail_features.append(feature)\n",
    "        plt.hist(df[feature])\n",
    "        plt.title(feature)\n",
    "        plt.show()"
   ]
  },
  {
   "cell_type": "markdown",
   "metadata": {},
   "source": [
    "Correlation matrix"
   ]
  },
  {
   "cell_type": "code",
   "execution_count": null,
   "metadata": {},
   "outputs": [],
   "source": [
    "print(df.columns)\n",
    "corr_matrix = df.select_dtypes(include=\"float64\").corr()\n",
    "corr_matrix.style.background_gradient(cmap='coolwarm')"
   ]
  },
  {
   "cell_type": "code",
   "execution_count": null,
   "metadata": {},
   "outputs": [],
   "source": [
    "top4 = corr_matrix[\"win\"].sort_values(ascending=False)[:4]\n",
    "print(top4.index)"
   ]
  },
  {
   "cell_type": "code",
   "execution_count": null,
   "metadata": {},
   "outputs": [],
   "source": [
    "from sklearn.linear_model import LogisticRegression\n",
    "\n",
    "win_data = df[df[\"win\"] == 1]\n",
    "lose_data = df[df[\"win\"] == 0]\n",
    "\n",
    "f1 = \"firstIn_rate\"\n",
    "f2 = \"firstWon_rate\"\n",
    "\n",
    "# Visualizzazione dei dati\n",
    "plt.plot(win_data[f1], win_data[f2], \"bo\", label=\"win\")\n",
    "plt.plot(lose_data[f1], lose_data[f2], \"rx\", label=\"lose\")\n",
    "\n",
    "xvals = np.linspace(0.5, 0.8, 100)\n",
    "m = (0.35 - 0.66) / (0.5 - 0.8)\n",
    "q = 0.35 - m * 0.5\n",
    "yvals = m * xvals + q\n",
    "plt.plot(xvals, yvals, \"g-\", label=\"decision boundary\")\n",
    "\n",
    "plt.xlabel(f1)\n",
    "plt.ylabel(f2) \n",
    "plt.legend()\n",
    "plt.show()"
   ]
  },
  {
   "cell_type": "markdown",
   "metadata": {},
   "source": [
    "## Data engineering"
   ]
  },
  {
   "cell_type": "markdown",
   "metadata": {},
   "source": [
    "The first thing we do is to encode the tournament round into numbers, to create a hierarcy"
   ]
  },
  {
   "cell_type": "code",
   "execution_count": null,
   "metadata": {},
   "outputs": [],
   "source": [
    "\n",
    "print(df[\"round\"].value_counts())\n",
    "for el in [\"Q1\", \"Q2\", \"Q3\", \"BR\"]:\n",
    "    df.drop(df[df[\"round\"] == el].index, inplace=True)\n",
    "print(df[\"round\"].value_counts())\n",
    "round_dict = {\"R128\": 0, \"R64\": 1, \"R32\": 2, \"R32\": 3, \"R16\": 4, \"RR\": 5, \"QF\": 6, \"SF\": 7, \"F\": 8}\n",
    "df[\"round_n\"] = [round_dict[round_key] for round_key in df[\"round\"]]\n",
    "df.drop(\"round\", inplace=True, axis=1)\n"
   ]
  },
  {
   "cell_type": "markdown",
   "metadata": {},
   "source": [
    "Divide ranks into bins"
   ]
  },
  {
   "cell_type": "code",
   "execution_count": null,
   "metadata": {},
   "outputs": [],
   "source": [
    "edges = [0,1,2,3,6,10,20,50,100,1000]\n",
    "df['rank'] = pd.cut(df['rank'], bins=edges, labels=range(len(edges)-1)).astype(str)\n",
    "df['opponent_rank'] = pd.cut(df['opponent_rank'], bins=edges, labels=range(len(edges)-1)).astype(str)"
   ]
  },
  {
   "cell_type": "markdown",
   "metadata": {},
   "source": [
    "We have to encode the date in some way. Here I chose to store only the year and the month of the match, and I encoded the month as a cyclical feature (December close to January). Other choices are possibile: for example one could consider one unique monotonic feature such as date = year*12 + month"
   ]
  },
  {
   "cell_type": "code",
   "execution_count": null,
   "metadata": {},
   "outputs": [],
   "source": [
    "from feature_engine.creation import CyclicalFeatures\n",
    "df_date = pd.DataFrame({\"year\": df[\"yyyy\"], \"month\": df[\"mm\"]})\n",
    "# Convert to cyclical feature\n",
    "cyclical = CyclicalFeatures(variables=None, drop_original=True)\n",
    "df_date = cyclical.fit_transform(df_date)\n",
    "# Merge into dataframe\n",
    "df = df.drop(columns=[\"yyyy\", \"mm\"], axis=1)\n",
    "df = pd.concat([df, df_date], axis=1)"
   ]
  },
  {
   "cell_type": "markdown",
   "metadata": {},
   "source": [
    "Now we want to create data pipelines. I decided to make three different pipelines: A) numerical data, B) categorical data  \n",
    "- numerical data -> replace NaN with mean value -> scale to zero mean unit variance distribution  \n",
    "- categorical data -> replace NaN with category \"missing\" -> onehot encoding"
   ]
  },
  {
   "cell_type": "code",
   "execution_count": null,
   "metadata": {},
   "outputs": [],
   "source": [
    "from sklearn.pipeline import Pipeline\n",
    "from sklearn.preprocessing import OneHotEncoder, StandardScaler, MinMaxScaler\n",
    "\n",
    "numerical_transformer = Pipeline(steps=[\n",
    "    ('imputer', SimpleImputer(strategy='mean')),\n",
    "    ('scaler', StandardScaler())\n",
    "])\n",
    "\n",
    "categorical_transformer = Pipeline(steps=[\n",
    "    ('imputer', SimpleImputer(strategy='constant', fill_value='missing')),\n",
    "    ('onehot', OneHotEncoder(handle_unknown='ignore'))\n",
    "])"
   ]
  },
  {
   "cell_type": "code",
   "execution_count": null,
   "metadata": {},
   "outputs": [],
   "source": [
    "from sklearn.compose import ColumnTransformer\n",
    "\n",
    "\n",
    "# Split data into categorical and numerical columns\n",
    "categorical_columns = df.select_dtypes(include=['object', 'category']).columns\n",
    "numerical_columns = df.select_dtypes(include=['int', 'float']).columns\n",
    "\n",
    "# Remove target variable from categorical columns\n",
    "numerical_columns = numerical_columns.drop('win')\n",
    "\n",
    "# Combine transformers using ColumnTransformer\n",
    "preprocessor = ColumnTransformer(\n",
    "    transformers=[\n",
    "        ('num', numerical_transformer, numerical_columns),\n",
    "        ('cat', categorical_transformer, categorical_columns)\n",
    "    ],remainder = 'passthrough')\n",
    "\n",
    "# Create a pipeline with the preprocessor\n",
    "pipeline = Pipeline(steps=[\n",
    "    ('preprocessor', preprocessor)])\n",
    "\n",
    "y = df[\"win\"]\n",
    "X = df.drop('win', axis=1)\n",
    "\n",
    "print(df[\"win\"].value_counts())\n",
    "print(df[\"win\"].isna().sum())\n",
    "\n",
    "X_preprocessed = pipeline.fit_transform(X)\n",
    "print(y.value_counts())"
   ]
  },
  {
   "cell_type": "code",
   "execution_count": null,
   "metadata": {},
   "outputs": [],
   "source": [
    "from sklearn.svm import SVC\n",
    "from sklearn.linear_model import LogisticRegression\n",
    "from sklearn.tree import DecisionTreeClassifier\n",
    "from sklearn.ensemble import RandomForestClassifier\n",
    "\n",
    "models = {\n",
    "    'SVM': SVC(random_state=29),\n",
    "    'Logistic': LogisticRegression(random_state=4),\n",
    "    'Tree': DecisionTreeClassifier(random_state=99),\n",
    "    'Forest': RandomForestClassifier(random_state=42)\n",
    "}\n",
    "\n",
    "# Define the hyperparameter grids for each model\n",
    "param_grids = {\n",
    "    'SVM': {\n",
    "        'kernel' : ['linear', 'poly', 'sigmoid']\n",
    "    },\n",
    "    'Logistic': {\n",
    "        'solver': ['liblinear', 'newton-cholesky', 'saga'],\n",
    "    },\n",
    "    'Tree': {\n",
    "        'criterion': ['gini', 'entropy', 'log_loss'],\n",
    "        'max_depth': [30, 50, None]\n",
    "    },\n",
    "    'Forest': {\n",
    "        'n_estimators': [100, 200, 300],\n",
    "        'max_depth': [70, 50, None]\n",
    "    }\n",
    "}"
   ]
  },
  {
   "cell_type": "code",
   "execution_count": null,
   "metadata": {},
   "outputs": [],
   "source": [
    "from sklearn.model_selection import train_test_split\n",
    "X_train, X_test, y_train, y_test = train_test_split(X_preprocessed, y, test_size=0.2, random_state=42)"
   ]
  },
  {
   "cell_type": "code",
   "execution_count": null,
   "metadata": {},
   "outputs": [],
   "source": [
    "# Train and tune the models\n",
    "from sklearn.model_selection import GridSearchCV\n",
    "\n",
    "grids = {}\n",
    "for model_name, model in models.items():\n",
    "    print(f'Training and tuning {model_name}...')\n",
    "    grids[model_name] = GridSearchCV(estimator=model, param_grid=param_grids[model_name], scoring='accuracy', n_jobs=-1, verbose=1)\n",
    "    grids[model_name].fit(X_train, y_train.values.ravel())\n",
    "    best_params = grids[model_name].best_params_\n",
    "    best_score = grids[model_name].best_score_\n",
    "    \n",
    "    print(f'Best parameters for {model_name}: {best_params}')\n",
    "    print(f'Best accuracy for {model_name}: {best_score}\\n')\n",
    "\n",
    "counts = y_test.value_counts()\n",
    "print(counts[1] / (counts[0] + counts[1]))"
   ]
  },
  {
   "cell_type": "code",
   "execution_count": null,
   "metadata": {},
   "outputs": [],
   "source": [
    "for model_name, model in models.items():\n",
    "    print(f'Testing {model_name}...')\n",
    "    sc = grids[model_name].score(X_test, y_test.values.ravel())\n",
    "    print(sc)"
   ]
  },
  {
   "cell_type": "code",
   "execution_count": null,
   "metadata": {},
   "outputs": [],
   "source": [
    "grids = {}\n",
    "for model_name, model in models.items():\n",
    "    print(f'Training and tuning {model_name}...')\n",
    "    grids[model_name] = GridSearchCV(estimator=model, param_grid=param_grids[model_name], scoring='precision', n_jobs=-1, verbose=1)\n",
    "    grids[model_name].fit(X_train, y_train.values.ravel())\n",
    "    best_params = grids[model_name].best_params_\n",
    "    best_score = grids[model_name].best_score_\n",
    "    \n",
    "    print(f'Best parameters for {model_name}: {best_params}')\n",
    "    print(f'Best accuracy for {model_name}: {best_score}\\n')\n",
    "\n",
    "counts = y_test.value_counts()\n",
    "print(counts[1] / (counts[0] + counts[1]))"
   ]
  },
  {
   "cell_type": "code",
   "execution_count": null,
   "metadata": {},
   "outputs": [],
   "source": [
    "for model_name, model in models.items():\n",
    "    print(f'Testing {model_name}...')\n",
    "    sc = grids[model_name].best_estimator_.score(X_test, y_test.values.ravel())\n",
    "    print(sc)"
   ]
  },
  {
   "cell_type": "code",
   "execution_count": null,
   "metadata": {},
   "outputs": [],
   "source": [
    "print(grids[\"Forest\"].best_estimator_.feature_importances_)\n",
    "print(X.columns)"
   ]
  },
  {
   "cell_type": "code",
   "execution_count": null,
   "metadata": {},
   "outputs": [],
   "source": [
    "pipeline = Pipeline(steps=[\n",
    "    ('preprocessor', preprocessor),\n",
    "    ('model', grids['Forest'].best_estimator_) \n",
    "])"
   ]
  },
  {
   "cell_type": "code",
   "execution_count": null,
   "metadata": {},
   "outputs": [],
   "source": [
    "import pickle\n",
    "\n",
    "# save\n",
    "with open('model.pkl','wb') as f:\n",
    "    pickle.dump(pipeline, f)"
   ]
  }
 ],
 "metadata": {
  "kernelspec": {
   "display_name": "base",
   "language": "python",
   "name": "python3"
  },
  "language_info": {
   "codemirror_mode": {
    "name": "ipython",
    "version": 3
   },
   "file_extension": ".py",
   "mimetype": "text/x-python",
   "name": "python",
   "nbconvert_exporter": "python",
   "pygments_lexer": "ipython3",
   "version": "3.12.7"
  }
 },
 "nbformat": 4,
 "nbformat_minor": 2
}
